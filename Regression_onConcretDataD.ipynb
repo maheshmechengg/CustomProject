{
 "cells": [
  {
   "cell_type": "markdown",
   "metadata": {},
   "source": [
    "# Regression Model Application on Concrete data"
   ]
  },
  {
   "cell_type": "markdown",
   "metadata": {},
   "source": [
    "### 1. Assignment Topic:\n",
    "\n",
    "In this project, you will build a regression model using the Keras library to model the same data about concrete compressive strength that we used in labs 3."
   ]
  },
  {
   "cell_type": "markdown",
   "metadata": {},
   "source": [
    "### 2. Concrete Data:\n",
    "\n",
    "For your convenience, the data can be found here again: https://cocl.us/concrete_data. To recap, the predictors in the data of concrete strength include:\n",
    "\n",
    "    1.Cement\n",
    "    2.Blast Furnace Slag\n",
    "    3.Fly Ash\n",
    "    4.Water\n",
    "    5.Superplasticizer\n",
    "    6.Coarse Aggregate\n",
    "    7.Fine Aggregate"
   ]
  },
  {
   "cell_type": "code",
   "execution_count": 1,
   "metadata": {},
   "outputs": [],
   "source": [
    "import pandas as pd\n",
    "import numpy as np"
   ]
  },
  {
   "cell_type": "code",
   "execution_count": 2,
   "metadata": {},
   "outputs": [
    {
     "data": {
      "text/html": [
       "<div>\n",
       "<style scoped>\n",
       "    .dataframe tbody tr th:only-of-type {\n",
       "        vertical-align: middle;\n",
       "    }\n",
       "\n",
       "    .dataframe tbody tr th {\n",
       "        vertical-align: top;\n",
       "    }\n",
       "\n",
       "    .dataframe thead th {\n",
       "        text-align: right;\n",
       "    }\n",
       "</style>\n",
       "<table border=\"1\" class=\"dataframe\">\n",
       "  <thead>\n",
       "    <tr style=\"text-align: right;\">\n",
       "      <th></th>\n",
       "      <th>Cement</th>\n",
       "      <th>Blast Furnace Slag</th>\n",
       "      <th>Fly Ash</th>\n",
       "      <th>Water</th>\n",
       "      <th>Superplasticizer</th>\n",
       "      <th>Coarse Aggregate</th>\n",
       "      <th>Fine Aggregate</th>\n",
       "      <th>Age</th>\n",
       "      <th>Strength</th>\n",
       "    </tr>\n",
       "  </thead>\n",
       "  <tbody>\n",
       "    <tr>\n",
       "      <th>0</th>\n",
       "      <td>540.0</td>\n",
       "      <td>0.0</td>\n",
       "      <td>0.0</td>\n",
       "      <td>162.0</td>\n",
       "      <td>2.5</td>\n",
       "      <td>1040.0</td>\n",
       "      <td>676.0</td>\n",
       "      <td>28</td>\n",
       "      <td>79.99</td>\n",
       "    </tr>\n",
       "    <tr>\n",
       "      <th>1</th>\n",
       "      <td>540.0</td>\n",
       "      <td>0.0</td>\n",
       "      <td>0.0</td>\n",
       "      <td>162.0</td>\n",
       "      <td>2.5</td>\n",
       "      <td>1055.0</td>\n",
       "      <td>676.0</td>\n",
       "      <td>28</td>\n",
       "      <td>61.89</td>\n",
       "    </tr>\n",
       "    <tr>\n",
       "      <th>2</th>\n",
       "      <td>332.5</td>\n",
       "      <td>142.5</td>\n",
       "      <td>0.0</td>\n",
       "      <td>228.0</td>\n",
       "      <td>0.0</td>\n",
       "      <td>932.0</td>\n",
       "      <td>594.0</td>\n",
       "      <td>270</td>\n",
       "      <td>40.27</td>\n",
       "    </tr>\n",
       "    <tr>\n",
       "      <th>3</th>\n",
       "      <td>332.5</td>\n",
       "      <td>142.5</td>\n",
       "      <td>0.0</td>\n",
       "      <td>228.0</td>\n",
       "      <td>0.0</td>\n",
       "      <td>932.0</td>\n",
       "      <td>594.0</td>\n",
       "      <td>365</td>\n",
       "      <td>41.05</td>\n",
       "    </tr>\n",
       "    <tr>\n",
       "      <th>4</th>\n",
       "      <td>198.6</td>\n",
       "      <td>132.4</td>\n",
       "      <td>0.0</td>\n",
       "      <td>192.0</td>\n",
       "      <td>0.0</td>\n",
       "      <td>978.4</td>\n",
       "      <td>825.5</td>\n",
       "      <td>360</td>\n",
       "      <td>44.30</td>\n",
       "    </tr>\n",
       "  </tbody>\n",
       "</table>\n",
       "</div>"
      ],
      "text/plain": [
       "   Cement  Blast Furnace Slag  Fly Ash  Water  Superplasticizer  \\\n",
       "0   540.0                 0.0      0.0  162.0               2.5   \n",
       "1   540.0                 0.0      0.0  162.0               2.5   \n",
       "2   332.5               142.5      0.0  228.0               0.0   \n",
       "3   332.5               142.5      0.0  228.0               0.0   \n",
       "4   198.6               132.4      0.0  192.0               0.0   \n",
       "\n",
       "   Coarse Aggregate  Fine Aggregate  Age  Strength  \n",
       "0            1040.0           676.0   28     79.99  \n",
       "1            1055.0           676.0   28     61.89  \n",
       "2             932.0           594.0  270     40.27  \n",
       "3             932.0           594.0  365     41.05  \n",
       "4             978.4           825.5  360     44.30  "
      ]
     },
     "execution_count": 2,
     "metadata": {},
     "output_type": "execute_result"
    }
   ],
   "source": [
    "concrete_data = pd.read_csv('https://s3-api.us-geo.objectstorage.softlayer.net/cf-courses-data/CognitiveClass/DL0101EN/labs/data/concrete_data.csv')\n",
    "concrete_data.head()"
   ]
  },
  {
   "cell_type": "markdown",
   "metadata": {},
   "source": [
    "Check shape of data"
   ]
  },
  {
   "cell_type": "code",
   "execution_count": 3,
   "metadata": {},
   "outputs": [
    {
     "data": {
      "text/plain": [
       "(1030, 9)"
      ]
     },
     "execution_count": 3,
     "metadata": {},
     "output_type": "execute_result"
    }
   ],
   "source": [
    "concrete_data.shape"
   ]
  },
  {
   "cell_type": "markdown",
   "metadata": {},
   "source": [
    "Check the data distribution"
   ]
  },
  {
   "cell_type": "code",
   "execution_count": 4,
   "metadata": {},
   "outputs": [
    {
     "data": {
      "text/html": [
       "<div>\n",
       "<style scoped>\n",
       "    .dataframe tbody tr th:only-of-type {\n",
       "        vertical-align: middle;\n",
       "    }\n",
       "\n",
       "    .dataframe tbody tr th {\n",
       "        vertical-align: top;\n",
       "    }\n",
       "\n",
       "    .dataframe thead th {\n",
       "        text-align: right;\n",
       "    }\n",
       "</style>\n",
       "<table border=\"1\" class=\"dataframe\">\n",
       "  <thead>\n",
       "    <tr style=\"text-align: right;\">\n",
       "      <th></th>\n",
       "      <th>count</th>\n",
       "      <th>mean</th>\n",
       "      <th>std</th>\n",
       "      <th>min</th>\n",
       "      <th>25%</th>\n",
       "      <th>50%</th>\n",
       "      <th>75%</th>\n",
       "      <th>max</th>\n",
       "    </tr>\n",
       "  </thead>\n",
       "  <tbody>\n",
       "    <tr>\n",
       "      <th>Cement</th>\n",
       "      <td>1030.0</td>\n",
       "      <td>281.167864</td>\n",
       "      <td>104.506364</td>\n",
       "      <td>102.00</td>\n",
       "      <td>192.375</td>\n",
       "      <td>272.900</td>\n",
       "      <td>350.000</td>\n",
       "      <td>540.0</td>\n",
       "    </tr>\n",
       "    <tr>\n",
       "      <th>Blast Furnace Slag</th>\n",
       "      <td>1030.0</td>\n",
       "      <td>73.895825</td>\n",
       "      <td>86.279342</td>\n",
       "      <td>0.00</td>\n",
       "      <td>0.000</td>\n",
       "      <td>22.000</td>\n",
       "      <td>142.950</td>\n",
       "      <td>359.4</td>\n",
       "    </tr>\n",
       "    <tr>\n",
       "      <th>Fly Ash</th>\n",
       "      <td>1030.0</td>\n",
       "      <td>54.188350</td>\n",
       "      <td>63.997004</td>\n",
       "      <td>0.00</td>\n",
       "      <td>0.000</td>\n",
       "      <td>0.000</td>\n",
       "      <td>118.300</td>\n",
       "      <td>200.1</td>\n",
       "    </tr>\n",
       "    <tr>\n",
       "      <th>Water</th>\n",
       "      <td>1030.0</td>\n",
       "      <td>181.567282</td>\n",
       "      <td>21.354219</td>\n",
       "      <td>121.80</td>\n",
       "      <td>164.900</td>\n",
       "      <td>185.000</td>\n",
       "      <td>192.000</td>\n",
       "      <td>247.0</td>\n",
       "    </tr>\n",
       "    <tr>\n",
       "      <th>Superplasticizer</th>\n",
       "      <td>1030.0</td>\n",
       "      <td>6.204660</td>\n",
       "      <td>5.973841</td>\n",
       "      <td>0.00</td>\n",
       "      <td>0.000</td>\n",
       "      <td>6.400</td>\n",
       "      <td>10.200</td>\n",
       "      <td>32.2</td>\n",
       "    </tr>\n",
       "    <tr>\n",
       "      <th>Coarse Aggregate</th>\n",
       "      <td>1030.0</td>\n",
       "      <td>972.918932</td>\n",
       "      <td>77.753954</td>\n",
       "      <td>801.00</td>\n",
       "      <td>932.000</td>\n",
       "      <td>968.000</td>\n",
       "      <td>1029.400</td>\n",
       "      <td>1145.0</td>\n",
       "    </tr>\n",
       "    <tr>\n",
       "      <th>Fine Aggregate</th>\n",
       "      <td>1030.0</td>\n",
       "      <td>773.580485</td>\n",
       "      <td>80.175980</td>\n",
       "      <td>594.00</td>\n",
       "      <td>730.950</td>\n",
       "      <td>779.500</td>\n",
       "      <td>824.000</td>\n",
       "      <td>992.6</td>\n",
       "    </tr>\n",
       "    <tr>\n",
       "      <th>Age</th>\n",
       "      <td>1030.0</td>\n",
       "      <td>45.662136</td>\n",
       "      <td>63.169912</td>\n",
       "      <td>1.00</td>\n",
       "      <td>7.000</td>\n",
       "      <td>28.000</td>\n",
       "      <td>56.000</td>\n",
       "      <td>365.0</td>\n",
       "    </tr>\n",
       "    <tr>\n",
       "      <th>Strength</th>\n",
       "      <td>1030.0</td>\n",
       "      <td>35.817961</td>\n",
       "      <td>16.705742</td>\n",
       "      <td>2.33</td>\n",
       "      <td>23.710</td>\n",
       "      <td>34.445</td>\n",
       "      <td>46.135</td>\n",
       "      <td>82.6</td>\n",
       "    </tr>\n",
       "  </tbody>\n",
       "</table>\n",
       "</div>"
      ],
      "text/plain": [
       "                     count        mean         std     min      25%      50%  \\\n",
       "Cement              1030.0  281.167864  104.506364  102.00  192.375  272.900   \n",
       "Blast Furnace Slag  1030.0   73.895825   86.279342    0.00    0.000   22.000   \n",
       "Fly Ash             1030.0   54.188350   63.997004    0.00    0.000    0.000   \n",
       "Water               1030.0  181.567282   21.354219  121.80  164.900  185.000   \n",
       "Superplasticizer    1030.0    6.204660    5.973841    0.00    0.000    6.400   \n",
       "Coarse Aggregate    1030.0  972.918932   77.753954  801.00  932.000  968.000   \n",
       "Fine Aggregate      1030.0  773.580485   80.175980  594.00  730.950  779.500   \n",
       "Age                 1030.0   45.662136   63.169912    1.00    7.000   28.000   \n",
       "Strength            1030.0   35.817961   16.705742    2.33   23.710   34.445   \n",
       "\n",
       "                         75%     max  \n",
       "Cement               350.000   540.0  \n",
       "Blast Furnace Slag   142.950   359.4  \n",
       "Fly Ash              118.300   200.1  \n",
       "Water                192.000   247.0  \n",
       "Superplasticizer      10.200    32.2  \n",
       "Coarse Aggregate    1029.400  1145.0  \n",
       "Fine Aggregate       824.000   992.6  \n",
       "Age                   56.000   365.0  \n",
       "Strength              46.135    82.6  "
      ]
     },
     "execution_count": 4,
     "metadata": {},
     "output_type": "execute_result"
    }
   ],
   "source": [
    "concrete_data.describe().T"
   ]
  },
  {
   "cell_type": "markdown",
   "metadata": {},
   "source": [
    "Check for any missing values in data"
   ]
  },
  {
   "cell_type": "code",
   "execution_count": 5,
   "metadata": {},
   "outputs": [
    {
     "data": {
      "text/plain": [
       "Cement                0\n",
       "Blast Furnace Slag    0\n",
       "Fly Ash               0\n",
       "Water                 0\n",
       "Superplasticizer      0\n",
       "Coarse Aggregate      0\n",
       "Fine Aggregate        0\n",
       "Age                   0\n",
       "Strength              0\n",
       "dtype: int64"
      ]
     },
     "execution_count": 5,
     "metadata": {},
     "output_type": "execute_result"
    }
   ],
   "source": [
    "concrete_data.isnull().sum()"
   ]
  },
  {
   "cell_type": "markdown",
   "metadata": {},
   "source": [
    "There are no missing values in data"
   ]
  },
  {
   "cell_type": "markdown",
   "metadata": {},
   "source": [
    "Seperate out data for predictors & target data"
   ]
  },
  {
   "cell_type": "code",
   "execution_count": 6,
   "metadata": {},
   "outputs": [],
   "source": [
    "predictors = concrete_data.drop('Strength', axis=1) # all columns except Strength\n",
    "target = concrete_data['Strength'] # Strength column"
   ]
  },
  {
   "cell_type": "markdown",
   "metadata": {},
   "source": [
    "Quickly check the data"
   ]
  },
  {
   "cell_type": "code",
   "execution_count": 7,
   "metadata": {},
   "outputs": [
    {
     "data": {
      "text/html": [
       "<div>\n",
       "<style scoped>\n",
       "    .dataframe tbody tr th:only-of-type {\n",
       "        vertical-align: middle;\n",
       "    }\n",
       "\n",
       "    .dataframe tbody tr th {\n",
       "        vertical-align: top;\n",
       "    }\n",
       "\n",
       "    .dataframe thead th {\n",
       "        text-align: right;\n",
       "    }\n",
       "</style>\n",
       "<table border=\"1\" class=\"dataframe\">\n",
       "  <thead>\n",
       "    <tr style=\"text-align: right;\">\n",
       "      <th></th>\n",
       "      <th>Cement</th>\n",
       "      <th>Blast Furnace Slag</th>\n",
       "      <th>Fly Ash</th>\n",
       "      <th>Water</th>\n",
       "      <th>Superplasticizer</th>\n",
       "      <th>Coarse Aggregate</th>\n",
       "      <th>Fine Aggregate</th>\n",
       "      <th>Age</th>\n",
       "    </tr>\n",
       "  </thead>\n",
       "  <tbody>\n",
       "    <tr>\n",
       "      <th>0</th>\n",
       "      <td>540.0</td>\n",
       "      <td>0.0</td>\n",
       "      <td>0.0</td>\n",
       "      <td>162.0</td>\n",
       "      <td>2.5</td>\n",
       "      <td>1040.0</td>\n",
       "      <td>676.0</td>\n",
       "      <td>28</td>\n",
       "    </tr>\n",
       "    <tr>\n",
       "      <th>1</th>\n",
       "      <td>540.0</td>\n",
       "      <td>0.0</td>\n",
       "      <td>0.0</td>\n",
       "      <td>162.0</td>\n",
       "      <td>2.5</td>\n",
       "      <td>1055.0</td>\n",
       "      <td>676.0</td>\n",
       "      <td>28</td>\n",
       "    </tr>\n",
       "    <tr>\n",
       "      <th>2</th>\n",
       "      <td>332.5</td>\n",
       "      <td>142.5</td>\n",
       "      <td>0.0</td>\n",
       "      <td>228.0</td>\n",
       "      <td>0.0</td>\n",
       "      <td>932.0</td>\n",
       "      <td>594.0</td>\n",
       "      <td>270</td>\n",
       "    </tr>\n",
       "    <tr>\n",
       "      <th>3</th>\n",
       "      <td>332.5</td>\n",
       "      <td>142.5</td>\n",
       "      <td>0.0</td>\n",
       "      <td>228.0</td>\n",
       "      <td>0.0</td>\n",
       "      <td>932.0</td>\n",
       "      <td>594.0</td>\n",
       "      <td>365</td>\n",
       "    </tr>\n",
       "    <tr>\n",
       "      <th>4</th>\n",
       "      <td>198.6</td>\n",
       "      <td>132.4</td>\n",
       "      <td>0.0</td>\n",
       "      <td>192.0</td>\n",
       "      <td>0.0</td>\n",
       "      <td>978.4</td>\n",
       "      <td>825.5</td>\n",
       "      <td>360</td>\n",
       "    </tr>\n",
       "  </tbody>\n",
       "</table>\n",
       "</div>"
      ],
      "text/plain": [
       "   Cement  Blast Furnace Slag  Fly Ash  Water  Superplasticizer  \\\n",
       "0   540.0                 0.0      0.0  162.0               2.5   \n",
       "1   540.0                 0.0      0.0  162.0               2.5   \n",
       "2   332.5               142.5      0.0  228.0               0.0   \n",
       "3   332.5               142.5      0.0  228.0               0.0   \n",
       "4   198.6               132.4      0.0  192.0               0.0   \n",
       "\n",
       "   Coarse Aggregate  Fine Aggregate  Age  \n",
       "0            1040.0           676.0   28  \n",
       "1            1055.0           676.0   28  \n",
       "2             932.0           594.0  270  \n",
       "3             932.0           594.0  365  \n",
       "4             978.4           825.5  360  "
      ]
     },
     "execution_count": 7,
     "metadata": {},
     "output_type": "execute_result"
    }
   ],
   "source": [
    "predictors.head()"
   ]
  },
  {
   "cell_type": "code",
   "execution_count": 8,
   "metadata": {},
   "outputs": [
    {
     "data": {
      "text/plain": [
       "0    79.99\n",
       "1    61.89\n",
       "2    40.27\n",
       "Name: Strength, dtype: float64"
      ]
     },
     "execution_count": 8,
     "metadata": {},
     "output_type": "execute_result"
    }
   ],
   "source": [
    "target.head(3)"
   ]
  },
  {
   "cell_type": "markdown",
   "metadata": {},
   "source": [
    "Finally, the last step is to normalize the data by substracting the mean and dividing by the standard deviation."
   ]
  },
  {
   "cell_type": "code",
   "execution_count": 9,
   "metadata": {},
   "outputs": [
    {
     "data": {
      "text/html": [
       "<div>\n",
       "<style scoped>\n",
       "    .dataframe tbody tr th:only-of-type {\n",
       "        vertical-align: middle;\n",
       "    }\n",
       "\n",
       "    .dataframe tbody tr th {\n",
       "        vertical-align: top;\n",
       "    }\n",
       "\n",
       "    .dataframe thead th {\n",
       "        text-align: right;\n",
       "    }\n",
       "</style>\n",
       "<table border=\"1\" class=\"dataframe\">\n",
       "  <thead>\n",
       "    <tr style=\"text-align: right;\">\n",
       "      <th></th>\n",
       "      <th>Cement</th>\n",
       "      <th>Blast Furnace Slag</th>\n",
       "      <th>Fly Ash</th>\n",
       "      <th>Water</th>\n",
       "      <th>Superplasticizer</th>\n",
       "      <th>Coarse Aggregate</th>\n",
       "      <th>Fine Aggregate</th>\n",
       "      <th>Age</th>\n",
       "    </tr>\n",
       "  </thead>\n",
       "  <tbody>\n",
       "    <tr>\n",
       "      <th>0</th>\n",
       "      <td>2.476712</td>\n",
       "      <td>-0.856472</td>\n",
       "      <td>-0.846733</td>\n",
       "      <td>-0.916319</td>\n",
       "      <td>-0.620147</td>\n",
       "      <td>0.862735</td>\n",
       "      <td>-1.217079</td>\n",
       "      <td>-0.279597</td>\n",
       "    </tr>\n",
       "    <tr>\n",
       "      <th>1</th>\n",
       "      <td>2.476712</td>\n",
       "      <td>-0.856472</td>\n",
       "      <td>-0.846733</td>\n",
       "      <td>-0.916319</td>\n",
       "      <td>-0.620147</td>\n",
       "      <td>1.055651</td>\n",
       "      <td>-1.217079</td>\n",
       "      <td>-0.279597</td>\n",
       "    </tr>\n",
       "    <tr>\n",
       "      <th>2</th>\n",
       "      <td>0.491187</td>\n",
       "      <td>0.795140</td>\n",
       "      <td>-0.846733</td>\n",
       "      <td>2.174405</td>\n",
       "      <td>-1.038638</td>\n",
       "      <td>-0.526262</td>\n",
       "      <td>-2.239829</td>\n",
       "      <td>3.551340</td>\n",
       "    </tr>\n",
       "    <tr>\n",
       "      <th>3</th>\n",
       "      <td>0.491187</td>\n",
       "      <td>0.795140</td>\n",
       "      <td>-0.846733</td>\n",
       "      <td>2.174405</td>\n",
       "      <td>-1.038638</td>\n",
       "      <td>-0.526262</td>\n",
       "      <td>-2.239829</td>\n",
       "      <td>5.055221</td>\n",
       "    </tr>\n",
       "    <tr>\n",
       "      <th>4</th>\n",
       "      <td>-0.790075</td>\n",
       "      <td>0.678079</td>\n",
       "      <td>-0.846733</td>\n",
       "      <td>0.488555</td>\n",
       "      <td>-1.038638</td>\n",
       "      <td>0.070492</td>\n",
       "      <td>0.647569</td>\n",
       "      <td>4.976069</td>\n",
       "    </tr>\n",
       "  </tbody>\n",
       "</table>\n",
       "</div>"
      ],
      "text/plain": [
       "     Cement  Blast Furnace Slag   Fly Ash     Water  Superplasticizer  \\\n",
       "0  2.476712           -0.856472 -0.846733 -0.916319         -0.620147   \n",
       "1  2.476712           -0.856472 -0.846733 -0.916319         -0.620147   \n",
       "2  0.491187            0.795140 -0.846733  2.174405         -1.038638   \n",
       "3  0.491187            0.795140 -0.846733  2.174405         -1.038638   \n",
       "4 -0.790075            0.678079 -0.846733  0.488555         -1.038638   \n",
       "\n",
       "   Coarse Aggregate  Fine Aggregate       Age  \n",
       "0          0.862735       -1.217079 -0.279597  \n",
       "1          1.055651       -1.217079 -0.279597  \n",
       "2         -0.526262       -2.239829  3.551340  \n",
       "3         -0.526262       -2.239829  5.055221  \n",
       "4          0.070492        0.647569  4.976069  "
      ]
     },
     "execution_count": 9,
     "metadata": {},
     "output_type": "execute_result"
    }
   ],
   "source": [
    "predictors_norm = (predictors - predictors.mean()) / predictors.std()\n",
    "predictors_norm.head()"
   ]
  },
  {
   "cell_type": "markdown",
   "metadata": {},
   "source": [
    "Let's save the number of predictors to n_cols since we will need this number when building our network."
   ]
  },
  {
   "cell_type": "code",
   "execution_count": 10,
   "metadata": {},
   "outputs": [],
   "source": [
    "n_cols = predictors_norm.shape[1] # number of predictors"
   ]
  },
  {
   "cell_type": "markdown",
   "metadata": {},
   "source": [
    "## Import neccessary libraries"
   ]
  },
  {
   "cell_type": "code",
   "execution_count": 11,
   "metadata": {},
   "outputs": [
    {
     "name": "stderr",
     "output_type": "stream",
     "text": [
      "Using TensorFlow backend.\n"
     ]
    }
   ],
   "source": [
    "import keras"
   ]
  },
  {
   "cell_type": "code",
   "execution_count": 12,
   "metadata": {},
   "outputs": [],
   "source": [
    "from keras.models import Sequential\n",
    "from keras.layers import Dense"
   ]
  },
  {
   "cell_type": "markdown",
   "metadata": {},
   "source": [
    "### Build Neural Network model"
   ]
  },
  {
   "cell_type": "code",
   "execution_count": 16,
   "metadata": {},
   "outputs": [],
   "source": [
    "#Build model with -Three hidden layers, each of 10 nodes and ReLU activation function.\n",
    "model = Sequential()\n",
    "model.add(Dense(10, activation='relu', input_shape=(n_cols,)))\n",
    "model.add(Dense(10, activation='relu'))\n",
    "model.add(Dense(10, activation='relu'))\n",
    "model.add(Dense(1))\n",
    "    \n",
    "# compile model\n",
    "model.compile(optimizer='adam', loss='mean_squared_error')"
   ]
  },
  {
   "cell_type": "markdown",
   "metadata": {},
   "source": [
    "### 1. Randomly split the data into a training and test sets by holding 30% of the data for testing. You can use the train_test_split helper function from Scikit-learn."
   ]
  },
  {
   "cell_type": "code",
   "execution_count": 17,
   "metadata": {},
   "outputs": [],
   "source": [
    "from sklearn.model_selection import train_test_split"
   ]
  },
  {
   "cell_type": "code",
   "execution_count": 18,
   "metadata": {},
   "outputs": [],
   "source": [
    "X_train, X_test, y_train, y_test = train_test_split(predictors_norm, target, test_size=0.30, random_state=1, shuffle=True)"
   ]
  },
  {
   "cell_type": "markdown",
   "metadata": {},
   "source": [
    "### 2. Train the model on the training data using 50 epochs."
   ]
  },
  {
   "cell_type": "code",
   "execution_count": 19,
   "metadata": {},
   "outputs": [
    {
     "name": "stdout",
     "output_type": "stream",
     "text": [
      "Epoch 1/100\n",
      " - 0s - loss: 1592.4218\n",
      "Epoch 2/100\n",
      " - 0s - loss: 1568.3570\n",
      "Epoch 3/100\n",
      " - 0s - loss: 1549.5254\n",
      "Epoch 4/100\n",
      " - 0s - loss: 1527.1690\n",
      "Epoch 5/100\n",
      " - 0s - loss: 1487.7250\n",
      "Epoch 6/100\n",
      " - 0s - loss: 1421.3609\n",
      "Epoch 7/100\n",
      " - 0s - loss: 1326.0351\n",
      "Epoch 8/100\n",
      " - 0s - loss: 1196.0295\n",
      "Epoch 9/100\n",
      " - 0s - loss: 1024.8405\n",
      "Epoch 10/100\n",
      " - 0s - loss: 811.6128\n",
      "Epoch 11/100\n",
      " - 0s - loss: 587.4668\n",
      "Epoch 12/100\n",
      " - 0s - loss: 396.6214\n",
      "Epoch 13/100\n",
      " - 0s - loss: 280.2671\n",
      "Epoch 14/100\n",
      " - 0s - loss: 232.3198\n",
      "Epoch 15/100\n",
      " - 0s - loss: 212.2637\n",
      "Epoch 16/100\n",
      " - 0s - loss: 198.9153\n",
      "Epoch 17/100\n",
      " - 0s - loss: 188.9331\n",
      "Epoch 18/100\n",
      " - 0s - loss: 180.9500\n",
      "Epoch 19/100\n",
      " - 0s - loss: 175.0086\n",
      "Epoch 20/100\n",
      " - 0s - loss: 170.3097\n",
      "Epoch 21/100\n",
      " - 0s - loss: 166.0566\n",
      "Epoch 22/100\n",
      " - 0s - loss: 162.2598\n",
      "Epoch 23/100\n",
      " - 0s - loss: 159.2204\n",
      "Epoch 24/100\n",
      " - 0s - loss: 156.0621\n",
      "Epoch 25/100\n",
      " - 0s - loss: 153.5704\n",
      "Epoch 26/100\n",
      " - 0s - loss: 151.1840\n",
      "Epoch 27/100\n",
      " - 0s - loss: 148.4492\n",
      "Epoch 28/100\n",
      " - 0s - loss: 146.1363\n",
      "Epoch 29/100\n",
      " - 0s - loss: 143.7545\n",
      "Epoch 30/100\n",
      " - 0s - loss: 141.9189\n",
      "Epoch 31/100\n",
      " - 0s - loss: 140.3725\n",
      "Epoch 32/100\n",
      " - 0s - loss: 138.5060\n",
      "Epoch 33/100\n",
      " - 0s - loss: 136.6121\n",
      "Epoch 34/100\n",
      " - 0s - loss: 135.2456\n",
      "Epoch 35/100\n",
      " - 0s - loss: 133.6761\n",
      "Epoch 36/100\n",
      " - 0s - loss: 131.9029\n",
      "Epoch 37/100\n",
      " - 0s - loss: 131.0389\n",
      "Epoch 38/100\n",
      " - 0s - loss: 129.3155\n",
      "Epoch 39/100\n",
      " - 0s - loss: 128.0599\n",
      "Epoch 40/100\n",
      " - 0s - loss: 126.9176\n",
      "Epoch 41/100\n",
      " - 0s - loss: 125.7242\n",
      "Epoch 42/100\n",
      " - 0s - loss: 124.5322\n",
      "Epoch 43/100\n",
      " - 0s - loss: 123.6824\n",
      "Epoch 44/100\n",
      " - 0s - loss: 122.5534\n",
      "Epoch 45/100\n",
      " - 0s - loss: 121.7952\n",
      "Epoch 46/100\n",
      " - 0s - loss: 120.9246\n",
      "Epoch 47/100\n",
      " - 0s - loss: 120.0288\n",
      "Epoch 48/100\n",
      " - 0s - loss: 119.4906\n",
      "Epoch 49/100\n",
      " - 0s - loss: 118.4666\n",
      "Epoch 50/100\n",
      " - 0s - loss: 117.8365\n",
      "Epoch 51/100\n",
      " - 0s - loss: 116.9480\n",
      "Epoch 52/100\n",
      " - 0s - loss: 116.4615\n",
      "Epoch 53/100\n",
      " - 0s - loss: 116.0895\n",
      "Epoch 54/100\n",
      " - 0s - loss: 115.3987\n",
      "Epoch 55/100\n",
      " - 0s - loss: 114.8963\n",
      "Epoch 56/100\n",
      " - 0s - loss: 114.2471\n",
      "Epoch 57/100\n",
      " - 0s - loss: 113.4966\n",
      "Epoch 58/100\n",
      " - 0s - loss: 113.0231\n",
      "Epoch 59/100\n",
      " - 0s - loss: 112.3116\n",
      "Epoch 60/100\n",
      " - 0s - loss: 111.8731\n",
      "Epoch 61/100\n",
      " - 0s - loss: 111.5429\n",
      "Epoch 62/100\n",
      " - 0s - loss: 110.7235\n",
      "Epoch 63/100\n",
      " - 0s - loss: 110.2119\n",
      "Epoch 64/100\n",
      " - 0s - loss: 109.6777\n",
      "Epoch 65/100\n",
      " - 0s - loss: 109.2510\n",
      "Epoch 66/100\n",
      " - 0s - loss: 108.4560\n",
      "Epoch 67/100\n",
      " - 0s - loss: 107.9061\n",
      "Epoch 68/100\n",
      " - 0s - loss: 107.5873\n",
      "Epoch 69/100\n",
      " - 0s - loss: 107.0625\n",
      "Epoch 70/100\n",
      " - 0s - loss: 106.2639\n",
      "Epoch 71/100\n",
      " - 0s - loss: 105.8381\n",
      "Epoch 72/100\n",
      " - 0s - loss: 105.3019\n",
      "Epoch 73/100\n",
      " - 0s - loss: 104.6348\n",
      "Epoch 74/100\n",
      " - 0s - loss: 104.0091\n",
      "Epoch 75/100\n",
      " - 0s - loss: 103.3737\n",
      "Epoch 76/100\n",
      " - 0s - loss: 102.5698\n",
      "Epoch 77/100\n",
      " - 0s - loss: 101.6280\n",
      "Epoch 78/100\n",
      " - 0s - loss: 101.1757\n",
      "Epoch 79/100\n",
      " - 0s - loss: 100.1931\n",
      "Epoch 80/100\n",
      " - 0s - loss: 99.4684\n",
      "Epoch 81/100\n",
      " - 0s - loss: 98.5198\n",
      "Epoch 82/100\n",
      " - 0s - loss: 98.0339\n",
      "Epoch 83/100\n",
      " - 0s - loss: 96.9292\n",
      "Epoch 84/100\n",
      " - 0s - loss: 96.4570\n",
      "Epoch 85/100\n",
      " - 0s - loss: 95.3444\n",
      "Epoch 86/100\n",
      " - 0s - loss: 94.4896\n",
      "Epoch 87/100\n",
      " - 0s - loss: 93.8355\n",
      "Epoch 88/100\n",
      " - 0s - loss: 93.1713\n",
      "Epoch 89/100\n",
      " - 0s - loss: 92.3826\n",
      "Epoch 90/100\n",
      " - 0s - loss: 91.3502\n",
      "Epoch 91/100\n",
      " - 0s - loss: 90.9720\n",
      "Epoch 92/100\n",
      " - 0s - loss: 89.8236\n",
      "Epoch 93/100\n",
      " - 0s - loss: 88.8981\n",
      "Epoch 94/100\n",
      " - 0s - loss: 88.2222\n",
      "Epoch 95/100\n",
      " - 0s - loss: 87.2856\n",
      "Epoch 96/100\n",
      " - 0s - loss: 86.1802\n",
      "Epoch 97/100\n",
      " - 0s - loss: 85.2811\n",
      "Epoch 98/100\n",
      " - 0s - loss: 84.1431\n",
      "Epoch 99/100\n",
      " - 0s - loss: 82.8987\n",
      "Epoch 100/100\n",
      " - 0s - loss: 81.5896\n"
     ]
    }
   ],
   "source": [
    "history = model.fit(X_train, y_train, epochs=100, verbose=2)"
   ]
  },
  {
   "cell_type": "markdown",
   "metadata": {},
   "source": [
    "### 3. Evaluate the model on the test data and compute the mean squared error between the predicted concrete strength and the actual concrete strength. You can use the mean_squared_error function from Scikit-learn."
   ]
  },
  {
   "cell_type": "code",
   "execution_count": 21,
   "metadata": {},
   "outputs": [],
   "source": [
    "pred = model.predict(X_test)"
   ]
  },
  {
   "cell_type": "code",
   "execution_count": 22,
   "metadata": {},
   "outputs": [],
   "source": [
    "from sklearn.metrics import mean_squared_error"
   ]
  },
  {
   "cell_type": "code",
   "execution_count": 23,
   "metadata": {},
   "outputs": [
    {
     "name": "stdout",
     "output_type": "stream",
     "text": [
      "103.49187087030481\n"
     ]
    }
   ],
   "source": [
    "err = mean_squared_error(y_test, pred)\n",
    "print(err)"
   ]
  },
  {
   "cell_type": "markdown",
   "metadata": {},
   "source": [
    "Error value is very big for the given set-up"
   ]
  },
  {
   "cell_type": "markdown",
   "metadata": {},
   "source": [
    "### 4. Repeat steps 1 - 3, 50 times, i.e., create a list of 50 mean squared errors."
   ]
  },
  {
   "cell_type": "code",
   "execution_count": 27,
   "metadata": {},
   "outputs": [],
   "source": [
    "#Define model as model1 which we will use with 50 iterations\n",
    "model1 =Sequential()\n",
    "model1.add(Dense(10, activation='relu', input_shape=(n_cols,)))\n",
    "model1.add(Dense(10, activation='relu'))\n",
    "model1.add(Dense(10, activation='relu'))\n",
    "model1.add(Dense(1))\n",
    "\n",
    "# compile model\n",
    "model1.compile(optimizer='adam', loss='mean_squared_error')"
   ]
  },
  {
   "cell_type": "code",
   "execution_count": 28,
   "metadata": {},
   "outputs": [
    {
     "name": "stdout",
     "output_type": "stream",
     "text": [
      "Error from iteration 1, is 136.9259152176\n",
      "Error from iteration 2, is 74.97177975224474\n",
      "Error from iteration 3, is 50.64787439559662\n",
      "Error from iteration 4, is 43.06147152438898\n",
      "Error from iteration 5, is 41.71097449123466\n",
      "Error from iteration 6, is 40.30179056075955\n",
      "Error from iteration 7, is 38.98212162405245\n",
      "Error from iteration 8, is 37.310764845664806\n",
      "Error from iteration 9, is 36.63435881972199\n",
      "Error from iteration 10, is 34.52962267347609\n",
      "Error from iteration 11, is 34.022278705260575\n",
      "Error from iteration 12, is 32.16472885879658\n",
      "Error from iteration 13, is 31.36594285785238\n",
      "Error from iteration 14, is 30.230095723962794\n",
      "Error from iteration 15, is 32.18697821957679\n",
      "Error from iteration 16, is 29.87123420852432\n",
      "Error from iteration 17, is 29.64744593494271\n",
      "Error from iteration 18, is 30.1772054336269\n",
      "Error from iteration 19, is 31.204457460785346\n",
      "Error from iteration 20, is 30.545535113317015\n",
      "Error from iteration 21, is 30.063032644553566\n",
      "Error from iteration 22, is 31.177112923585646\n",
      "Error from iteration 23, is 30.67679279261131\n",
      "Error from iteration 24, is 30.326850901079354\n",
      "Error from iteration 25, is 30.820436735012603\n",
      "Error from iteration 26, is 30.89224339998173\n",
      "Error from iteration 27, is 31.89281320059274\n",
      "Error from iteration 28, is 30.43489554433319\n",
      "Error from iteration 29, is 30.421360377120724\n",
      "Error from iteration 30, is 30.1193214247986\n",
      "Error from iteration 31, is 30.14944389836394\n",
      "Error from iteration 32, is 30.571995366393125\n",
      "Error from iteration 33, is 29.930543156181624\n",
      "Error from iteration 34, is 30.003233765898372\n",
      "Error from iteration 35, is 30.53350701849166\n",
      "Error from iteration 36, is 30.807834356616468\n",
      "Error from iteration 37, is 32.00521508632791\n",
      "Error from iteration 38, is 30.568120383682768\n",
      "Error from iteration 39, is 30.450828093545773\n",
      "Error from iteration 40, is 30.577007320053607\n",
      "Error from iteration 41, is 30.904233510391826\n",
      "Error from iteration 42, is 30.55237094009892\n",
      "Error from iteration 43, is 31.93273591477623\n",
      "Error from iteration 44, is 30.124454076326067\n",
      "Error from iteration 45, is 30.660881340590905\n",
      "Error from iteration 46, is 30.847138914458725\n",
      "Error from iteration 47, is 31.195696683299087\n",
      "Error from iteration 48, is 30.320131297028908\n",
      "Error from iteration 49, is 30.95322908936553\n",
      "Error from iteration 50, is 30.61406080009783\n"
     ]
    }
   ],
   "source": [
    "#Error value holder\n",
    "error = np.zeros(50)\n",
    "\n",
    "# For loop for 50 iterations\n",
    "for i in range(50):\n",
    "    X_tr, X_tt, y_tr, y_tt = train_test_split(predictors_norm, target, test_size=0.30, random_state=1, shuffle=True)\n",
    "    hist = model1.fit(X_tr, y_tr, epochs=100, verbose=0)\n",
    "    preds = model1.predict(X_tt)\n",
    "    err = mean_squared_error(y_tt, preds)\n",
    "    error[i] = err\n",
    "    print(\"Error from iteration {}, is {}\".format(i+1,err))"
   ]
  },
  {
   "cell_type": "markdown",
   "metadata": {},
   "source": [
    "### 5. Report the mean and the standard deviation of the mean squared errors."
   ]
  },
  {
   "cell_type": "code",
   "execution_count": 29,
   "metadata": {},
   "outputs": [
    {
     "name": "stdout",
     "output_type": "stream",
     "text": [
      "Mean is 35.34040194754088, and std. deviation is 16.19899871006524\n"
     ]
    }
   ],
   "source": [
    "dev = np.std(error)\n",
    "Mn = np.mean(error)\n",
    "print(\"Mean is {}, and std. deviation is {}\".format(Mn,dev))"
   ]
  },
  {
   "cell_type": "markdown",
   "metadata": {},
   "source": [
    "### How does the mean of the mean squared errors compare to that from Step B?"
   ]
  },
  {
   "cell_type": "markdown",
   "metadata": {},
   "source": [
    "Mean & std. deviation further improved significantly from Step-B"
   ]
  }
 ],
 "metadata": {
  "kernelspec": {
   "display_name": "Python",
   "language": "python",
   "name": "conda-env-python-py"
  },
  "language_info": {
   "codemirror_mode": {
    "name": "ipython",
    "version": 3
   },
   "file_extension": ".py",
   "mimetype": "text/x-python",
   "name": "python",
   "nbconvert_exporter": "python",
   "pygments_lexer": "ipython3",
   "version": "3.6.7"
  }
 },
 "nbformat": 4,
 "nbformat_minor": 4
}
