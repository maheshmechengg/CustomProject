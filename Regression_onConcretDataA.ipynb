{
 "cells": [
  {
   "cell_type": "markdown",
   "metadata": {},
   "source": [
    "# Regression Model Application on Concrete data"
   ]
  },
  {
   "cell_type": "markdown",
   "metadata": {},
   "source": [
    "### 1. Assignment Topic:\n",
    "\n",
    "In this project, you will build a regression model using the Keras library to model the same data about concrete compressive strength that we used in labs 3."
   ]
  },
  {
   "cell_type": "markdown",
   "metadata": {},
   "source": [
    "### 2. Concrete Data:\n",
    "\n",
    "For your convenience, the data can be found here again: https://cocl.us/concrete_data. To recap, the predictors in the data of concrete strength include:\n",
    "\n",
    "    1.Cement\n",
    "    2.Blast Furnace Slag\n",
    "    3.Fly Ash\n",
    "    4.Water\n",
    "    5.Superplasticizer\n",
    "    6.Coarse Aggregate\n",
    "    7.Fine Aggregate"
   ]
  },
  {
   "cell_type": "code",
   "execution_count": 1,
   "metadata": {},
   "outputs": [],
   "source": [
    "import pandas as pd\n",
    "import numpy as np"
   ]
  },
  {
   "cell_type": "code",
   "execution_count": 2,
   "metadata": {},
   "outputs": [
    {
     "data": {
      "text/html": [
       "<div>\n",
       "<style scoped>\n",
       "    .dataframe tbody tr th:only-of-type {\n",
       "        vertical-align: middle;\n",
       "    }\n",
       "\n",
       "    .dataframe tbody tr th {\n",
       "        vertical-align: top;\n",
       "    }\n",
       "\n",
       "    .dataframe thead th {\n",
       "        text-align: right;\n",
       "    }\n",
       "</style>\n",
       "<table border=\"1\" class=\"dataframe\">\n",
       "  <thead>\n",
       "    <tr style=\"text-align: right;\">\n",
       "      <th></th>\n",
       "      <th>Cement</th>\n",
       "      <th>Blast Furnace Slag</th>\n",
       "      <th>Fly Ash</th>\n",
       "      <th>Water</th>\n",
       "      <th>Superplasticizer</th>\n",
       "      <th>Coarse Aggregate</th>\n",
       "      <th>Fine Aggregate</th>\n",
       "      <th>Age</th>\n",
       "      <th>Strength</th>\n",
       "    </tr>\n",
       "  </thead>\n",
       "  <tbody>\n",
       "    <tr>\n",
       "      <th>0</th>\n",
       "      <td>540.0</td>\n",
       "      <td>0.0</td>\n",
       "      <td>0.0</td>\n",
       "      <td>162.0</td>\n",
       "      <td>2.5</td>\n",
       "      <td>1040.0</td>\n",
       "      <td>676.0</td>\n",
       "      <td>28</td>\n",
       "      <td>79.99</td>\n",
       "    </tr>\n",
       "    <tr>\n",
       "      <th>1</th>\n",
       "      <td>540.0</td>\n",
       "      <td>0.0</td>\n",
       "      <td>0.0</td>\n",
       "      <td>162.0</td>\n",
       "      <td>2.5</td>\n",
       "      <td>1055.0</td>\n",
       "      <td>676.0</td>\n",
       "      <td>28</td>\n",
       "      <td>61.89</td>\n",
       "    </tr>\n",
       "    <tr>\n",
       "      <th>2</th>\n",
       "      <td>332.5</td>\n",
       "      <td>142.5</td>\n",
       "      <td>0.0</td>\n",
       "      <td>228.0</td>\n",
       "      <td>0.0</td>\n",
       "      <td>932.0</td>\n",
       "      <td>594.0</td>\n",
       "      <td>270</td>\n",
       "      <td>40.27</td>\n",
       "    </tr>\n",
       "    <tr>\n",
       "      <th>3</th>\n",
       "      <td>332.5</td>\n",
       "      <td>142.5</td>\n",
       "      <td>0.0</td>\n",
       "      <td>228.0</td>\n",
       "      <td>0.0</td>\n",
       "      <td>932.0</td>\n",
       "      <td>594.0</td>\n",
       "      <td>365</td>\n",
       "      <td>41.05</td>\n",
       "    </tr>\n",
       "    <tr>\n",
       "      <th>4</th>\n",
       "      <td>198.6</td>\n",
       "      <td>132.4</td>\n",
       "      <td>0.0</td>\n",
       "      <td>192.0</td>\n",
       "      <td>0.0</td>\n",
       "      <td>978.4</td>\n",
       "      <td>825.5</td>\n",
       "      <td>360</td>\n",
       "      <td>44.30</td>\n",
       "    </tr>\n",
       "  </tbody>\n",
       "</table>\n",
       "</div>"
      ],
      "text/plain": [
       "   Cement  Blast Furnace Slag  Fly Ash  Water  Superplasticizer  \\\n",
       "0   540.0                 0.0      0.0  162.0               2.5   \n",
       "1   540.0                 0.0      0.0  162.0               2.5   \n",
       "2   332.5               142.5      0.0  228.0               0.0   \n",
       "3   332.5               142.5      0.0  228.0               0.0   \n",
       "4   198.6               132.4      0.0  192.0               0.0   \n",
       "\n",
       "   Coarse Aggregate  Fine Aggregate  Age  Strength  \n",
       "0            1040.0           676.0   28     79.99  \n",
       "1            1055.0           676.0   28     61.89  \n",
       "2             932.0           594.0  270     40.27  \n",
       "3             932.0           594.0  365     41.05  \n",
       "4             978.4           825.5  360     44.30  "
      ]
     },
     "execution_count": 2,
     "metadata": {},
     "output_type": "execute_result"
    }
   ],
   "source": [
    "concrete_data = pd.read_csv('https://s3-api.us-geo.objectstorage.softlayer.net/cf-courses-data/CognitiveClass/DL0101EN/labs/data/concrete_data.csv')\n",
    "concrete_data.head()"
   ]
  },
  {
   "cell_type": "markdown",
   "metadata": {},
   "source": [
    "Check shape of data"
   ]
  },
  {
   "cell_type": "code",
   "execution_count": 3,
   "metadata": {},
   "outputs": [
    {
     "data": {
      "text/plain": [
       "(1030, 9)"
      ]
     },
     "execution_count": 3,
     "metadata": {},
     "output_type": "execute_result"
    }
   ],
   "source": [
    "concrete_data.shape"
   ]
  },
  {
   "cell_type": "markdown",
   "metadata": {},
   "source": [
    "Check the data distribution"
   ]
  },
  {
   "cell_type": "code",
   "execution_count": 4,
   "metadata": {},
   "outputs": [
    {
     "data": {
      "text/html": [
       "<div>\n",
       "<style scoped>\n",
       "    .dataframe tbody tr th:only-of-type {\n",
       "        vertical-align: middle;\n",
       "    }\n",
       "\n",
       "    .dataframe tbody tr th {\n",
       "        vertical-align: top;\n",
       "    }\n",
       "\n",
       "    .dataframe thead th {\n",
       "        text-align: right;\n",
       "    }\n",
       "</style>\n",
       "<table border=\"1\" class=\"dataframe\">\n",
       "  <thead>\n",
       "    <tr style=\"text-align: right;\">\n",
       "      <th></th>\n",
       "      <th>count</th>\n",
       "      <th>mean</th>\n",
       "      <th>std</th>\n",
       "      <th>min</th>\n",
       "      <th>25%</th>\n",
       "      <th>50%</th>\n",
       "      <th>75%</th>\n",
       "      <th>max</th>\n",
       "    </tr>\n",
       "  </thead>\n",
       "  <tbody>\n",
       "    <tr>\n",
       "      <th>Cement</th>\n",
       "      <td>1030.0</td>\n",
       "      <td>281.167864</td>\n",
       "      <td>104.506364</td>\n",
       "      <td>102.00</td>\n",
       "      <td>192.375</td>\n",
       "      <td>272.900</td>\n",
       "      <td>350.000</td>\n",
       "      <td>540.0</td>\n",
       "    </tr>\n",
       "    <tr>\n",
       "      <th>Blast Furnace Slag</th>\n",
       "      <td>1030.0</td>\n",
       "      <td>73.895825</td>\n",
       "      <td>86.279342</td>\n",
       "      <td>0.00</td>\n",
       "      <td>0.000</td>\n",
       "      <td>22.000</td>\n",
       "      <td>142.950</td>\n",
       "      <td>359.4</td>\n",
       "    </tr>\n",
       "    <tr>\n",
       "      <th>Fly Ash</th>\n",
       "      <td>1030.0</td>\n",
       "      <td>54.188350</td>\n",
       "      <td>63.997004</td>\n",
       "      <td>0.00</td>\n",
       "      <td>0.000</td>\n",
       "      <td>0.000</td>\n",
       "      <td>118.300</td>\n",
       "      <td>200.1</td>\n",
       "    </tr>\n",
       "    <tr>\n",
       "      <th>Water</th>\n",
       "      <td>1030.0</td>\n",
       "      <td>181.567282</td>\n",
       "      <td>21.354219</td>\n",
       "      <td>121.80</td>\n",
       "      <td>164.900</td>\n",
       "      <td>185.000</td>\n",
       "      <td>192.000</td>\n",
       "      <td>247.0</td>\n",
       "    </tr>\n",
       "    <tr>\n",
       "      <th>Superplasticizer</th>\n",
       "      <td>1030.0</td>\n",
       "      <td>6.204660</td>\n",
       "      <td>5.973841</td>\n",
       "      <td>0.00</td>\n",
       "      <td>0.000</td>\n",
       "      <td>6.400</td>\n",
       "      <td>10.200</td>\n",
       "      <td>32.2</td>\n",
       "    </tr>\n",
       "    <tr>\n",
       "      <th>Coarse Aggregate</th>\n",
       "      <td>1030.0</td>\n",
       "      <td>972.918932</td>\n",
       "      <td>77.753954</td>\n",
       "      <td>801.00</td>\n",
       "      <td>932.000</td>\n",
       "      <td>968.000</td>\n",
       "      <td>1029.400</td>\n",
       "      <td>1145.0</td>\n",
       "    </tr>\n",
       "    <tr>\n",
       "      <th>Fine Aggregate</th>\n",
       "      <td>1030.0</td>\n",
       "      <td>773.580485</td>\n",
       "      <td>80.175980</td>\n",
       "      <td>594.00</td>\n",
       "      <td>730.950</td>\n",
       "      <td>779.500</td>\n",
       "      <td>824.000</td>\n",
       "      <td>992.6</td>\n",
       "    </tr>\n",
       "    <tr>\n",
       "      <th>Age</th>\n",
       "      <td>1030.0</td>\n",
       "      <td>45.662136</td>\n",
       "      <td>63.169912</td>\n",
       "      <td>1.00</td>\n",
       "      <td>7.000</td>\n",
       "      <td>28.000</td>\n",
       "      <td>56.000</td>\n",
       "      <td>365.0</td>\n",
       "    </tr>\n",
       "    <tr>\n",
       "      <th>Strength</th>\n",
       "      <td>1030.0</td>\n",
       "      <td>35.817961</td>\n",
       "      <td>16.705742</td>\n",
       "      <td>2.33</td>\n",
       "      <td>23.710</td>\n",
       "      <td>34.445</td>\n",
       "      <td>46.135</td>\n",
       "      <td>82.6</td>\n",
       "    </tr>\n",
       "  </tbody>\n",
       "</table>\n",
       "</div>"
      ],
      "text/plain": [
       "                     count        mean         std     min      25%      50%  \\\n",
       "Cement              1030.0  281.167864  104.506364  102.00  192.375  272.900   \n",
       "Blast Furnace Slag  1030.0   73.895825   86.279342    0.00    0.000   22.000   \n",
       "Fly Ash             1030.0   54.188350   63.997004    0.00    0.000    0.000   \n",
       "Water               1030.0  181.567282   21.354219  121.80  164.900  185.000   \n",
       "Superplasticizer    1030.0    6.204660    5.973841    0.00    0.000    6.400   \n",
       "Coarse Aggregate    1030.0  972.918932   77.753954  801.00  932.000  968.000   \n",
       "Fine Aggregate      1030.0  773.580485   80.175980  594.00  730.950  779.500   \n",
       "Age                 1030.0   45.662136   63.169912    1.00    7.000   28.000   \n",
       "Strength            1030.0   35.817961   16.705742    2.33   23.710   34.445   \n",
       "\n",
       "                         75%     max  \n",
       "Cement               350.000   540.0  \n",
       "Blast Furnace Slag   142.950   359.4  \n",
       "Fly Ash              118.300   200.1  \n",
       "Water                192.000   247.0  \n",
       "Superplasticizer      10.200    32.2  \n",
       "Coarse Aggregate    1029.400  1145.0  \n",
       "Fine Aggregate       824.000   992.6  \n",
       "Age                   56.000   365.0  \n",
       "Strength              46.135    82.6  "
      ]
     },
     "execution_count": 4,
     "metadata": {},
     "output_type": "execute_result"
    }
   ],
   "source": [
    "concrete_data.describe().T"
   ]
  },
  {
   "cell_type": "markdown",
   "metadata": {},
   "source": [
    "Check for any missing values in data"
   ]
  },
  {
   "cell_type": "code",
   "execution_count": 5,
   "metadata": {},
   "outputs": [
    {
     "data": {
      "text/plain": [
       "Cement                0\n",
       "Blast Furnace Slag    0\n",
       "Fly Ash               0\n",
       "Water                 0\n",
       "Superplasticizer      0\n",
       "Coarse Aggregate      0\n",
       "Fine Aggregate        0\n",
       "Age                   0\n",
       "Strength              0\n",
       "dtype: int64"
      ]
     },
     "execution_count": 5,
     "metadata": {},
     "output_type": "execute_result"
    }
   ],
   "source": [
    "concrete_data.isnull().sum()"
   ]
  },
  {
   "cell_type": "markdown",
   "metadata": {},
   "source": [
    "There are no missing values in data"
   ]
  },
  {
   "cell_type": "markdown",
   "metadata": {},
   "source": [
    "Seperate out data for predictors & target data"
   ]
  },
  {
   "cell_type": "code",
   "execution_count": 6,
   "metadata": {},
   "outputs": [],
   "source": [
    "predictors = concrete_data.drop('Strength', axis=1) # all columns except Strength\n",
    "target = concrete_data['Strength'] # Strength column"
   ]
  },
  {
   "cell_type": "markdown",
   "metadata": {},
   "source": [
    "Quickly check the data"
   ]
  },
  {
   "cell_type": "code",
   "execution_count": 7,
   "metadata": {},
   "outputs": [
    {
     "data": {
      "text/html": [
       "<div>\n",
       "<style scoped>\n",
       "    .dataframe tbody tr th:only-of-type {\n",
       "        vertical-align: middle;\n",
       "    }\n",
       "\n",
       "    .dataframe tbody tr th {\n",
       "        vertical-align: top;\n",
       "    }\n",
       "\n",
       "    .dataframe thead th {\n",
       "        text-align: right;\n",
       "    }\n",
       "</style>\n",
       "<table border=\"1\" class=\"dataframe\">\n",
       "  <thead>\n",
       "    <tr style=\"text-align: right;\">\n",
       "      <th></th>\n",
       "      <th>Cement</th>\n",
       "      <th>Blast Furnace Slag</th>\n",
       "      <th>Fly Ash</th>\n",
       "      <th>Water</th>\n",
       "      <th>Superplasticizer</th>\n",
       "      <th>Coarse Aggregate</th>\n",
       "      <th>Fine Aggregate</th>\n",
       "      <th>Age</th>\n",
       "    </tr>\n",
       "  </thead>\n",
       "  <tbody>\n",
       "    <tr>\n",
       "      <th>0</th>\n",
       "      <td>540.0</td>\n",
       "      <td>0.0</td>\n",
       "      <td>0.0</td>\n",
       "      <td>162.0</td>\n",
       "      <td>2.5</td>\n",
       "      <td>1040.0</td>\n",
       "      <td>676.0</td>\n",
       "      <td>28</td>\n",
       "    </tr>\n",
       "    <tr>\n",
       "      <th>1</th>\n",
       "      <td>540.0</td>\n",
       "      <td>0.0</td>\n",
       "      <td>0.0</td>\n",
       "      <td>162.0</td>\n",
       "      <td>2.5</td>\n",
       "      <td>1055.0</td>\n",
       "      <td>676.0</td>\n",
       "      <td>28</td>\n",
       "    </tr>\n",
       "    <tr>\n",
       "      <th>2</th>\n",
       "      <td>332.5</td>\n",
       "      <td>142.5</td>\n",
       "      <td>0.0</td>\n",
       "      <td>228.0</td>\n",
       "      <td>0.0</td>\n",
       "      <td>932.0</td>\n",
       "      <td>594.0</td>\n",
       "      <td>270</td>\n",
       "    </tr>\n",
       "    <tr>\n",
       "      <th>3</th>\n",
       "      <td>332.5</td>\n",
       "      <td>142.5</td>\n",
       "      <td>0.0</td>\n",
       "      <td>228.0</td>\n",
       "      <td>0.0</td>\n",
       "      <td>932.0</td>\n",
       "      <td>594.0</td>\n",
       "      <td>365</td>\n",
       "    </tr>\n",
       "    <tr>\n",
       "      <th>4</th>\n",
       "      <td>198.6</td>\n",
       "      <td>132.4</td>\n",
       "      <td>0.0</td>\n",
       "      <td>192.0</td>\n",
       "      <td>0.0</td>\n",
       "      <td>978.4</td>\n",
       "      <td>825.5</td>\n",
       "      <td>360</td>\n",
       "    </tr>\n",
       "  </tbody>\n",
       "</table>\n",
       "</div>"
      ],
      "text/plain": [
       "   Cement  Blast Furnace Slag  Fly Ash  Water  Superplasticizer  \\\n",
       "0   540.0                 0.0      0.0  162.0               2.5   \n",
       "1   540.0                 0.0      0.0  162.0               2.5   \n",
       "2   332.5               142.5      0.0  228.0               0.0   \n",
       "3   332.5               142.5      0.0  228.0               0.0   \n",
       "4   198.6               132.4      0.0  192.0               0.0   \n",
       "\n",
       "   Coarse Aggregate  Fine Aggregate  Age  \n",
       "0            1040.0           676.0   28  \n",
       "1            1055.0           676.0   28  \n",
       "2             932.0           594.0  270  \n",
       "3             932.0           594.0  365  \n",
       "4             978.4           825.5  360  "
      ]
     },
     "execution_count": 7,
     "metadata": {},
     "output_type": "execute_result"
    }
   ],
   "source": [
    "predictors.head()"
   ]
  },
  {
   "cell_type": "code",
   "execution_count": 8,
   "metadata": {},
   "outputs": [
    {
     "data": {
      "text/plain": [
       "0    79.99\n",
       "1    61.89\n",
       "2    40.27\n",
       "Name: Strength, dtype: float64"
      ]
     },
     "execution_count": 8,
     "metadata": {},
     "output_type": "execute_result"
    }
   ],
   "source": [
    "target.head(3)"
   ]
  },
  {
   "cell_type": "markdown",
   "metadata": {},
   "source": [
    "Let's save the number of predictors to n_cols since we will need this number when building our network."
   ]
  },
  {
   "cell_type": "code",
   "execution_count": 9,
   "metadata": {},
   "outputs": [],
   "source": [
    "n_cols = predictors.shape[1] # number of predictors"
   ]
  },
  {
   "cell_type": "markdown",
   "metadata": {},
   "source": [
    "## Import neccessary libraries"
   ]
  },
  {
   "cell_type": "code",
   "execution_count": 10,
   "metadata": {},
   "outputs": [
    {
     "name": "stderr",
     "output_type": "stream",
     "text": [
      "Using TensorFlow backend.\n"
     ]
    }
   ],
   "source": [
    "import keras"
   ]
  },
  {
   "cell_type": "code",
   "execution_count": 12,
   "metadata": {},
   "outputs": [],
   "source": [
    "from keras.models import Sequential\n",
    "from keras.layers import Dense"
   ]
  },
  {
   "cell_type": "markdown",
   "metadata": {},
   "source": [
    "### Build Neural Network model"
   ]
  },
  {
   "cell_type": "markdown",
   "metadata": {},
   "source": [
    "Use the Keras library to build a neural network with the following:\n",
    "\n",
    "- One hidden layer of 10 nodes, and a 'ReLU' activation function\n",
    "\n",
    "- Use the 'adam' optimizer and the 'mean squared error' as the loss function"
   ]
  },
  {
   "cell_type": "code",
   "execution_count": 13,
   "metadata": {},
   "outputs": [],
   "source": [
    "model = Sequential()\n",
    "model.add(Dense(10, activation='relu', input_shape=(n_cols,)))\n",
    "model.add(Dense(1))\n",
    "    \n",
    "# compile model\n",
    "model.compile(optimizer='adam', loss='mean_squared_error')"
   ]
  },
  {
   "cell_type": "markdown",
   "metadata": {},
   "source": [
    "### 1. Randomly split the data into a training and test sets by holding 30% of the data for testing. You can use the train_test_split helper function from Scikit-learn."
   ]
  },
  {
   "cell_type": "code",
   "execution_count": 14,
   "metadata": {},
   "outputs": [],
   "source": [
    "from sklearn.model_selection import train_test_split"
   ]
  },
  {
   "cell_type": "code",
   "execution_count": 15,
   "metadata": {},
   "outputs": [],
   "source": [
    "# Train, test data sets split by 30%\n",
    "X_train, X_test, y_train, y_test = train_test_split(predictors, target, test_size=0.30, random_state=1, shuffle=True)"
   ]
  },
  {
   "cell_type": "markdown",
   "metadata": {},
   "source": [
    "### 2. Train the model on the training data using 50 epochs."
   ]
  },
  {
   "cell_type": "code",
   "execution_count": 16,
   "metadata": {},
   "outputs": [
    {
     "name": "stdout",
     "output_type": "stream",
     "text": [
      "Epoch 1/50\n",
      " - 0s - loss: 29823.5186\n",
      "Epoch 2/50\n",
      " - 0s - loss: 1795.2946\n",
      "Epoch 3/50\n",
      " - 0s - loss: 1322.3655\n",
      "Epoch 4/50\n",
      " - 0s - loss: 1002.5326\n",
      "Epoch 5/50\n",
      " - 0s - loss: 864.5558\n",
      "Epoch 6/50\n",
      " - 0s - loss: 745.1353\n",
      "Epoch 7/50\n",
      " - 0s - loss: 641.7271\n",
      "Epoch 8/50\n",
      " - 0s - loss: 560.3095\n",
      "Epoch 9/50\n",
      " - 0s - loss: 485.3625\n",
      "Epoch 10/50\n",
      " - 0s - loss: 428.3570\n",
      "Epoch 11/50\n",
      " - 0s - loss: 381.9929\n",
      "Epoch 12/50\n",
      " - 0s - loss: 345.6184\n",
      "Epoch 13/50\n",
      " - 0s - loss: 315.5341\n",
      "Epoch 14/50\n",
      " - 0s - loss: 292.3784\n",
      "Epoch 15/50\n",
      " - 0s - loss: 272.7539\n",
      "Epoch 16/50\n",
      " - 0s - loss: 257.8144\n",
      "Epoch 17/50\n",
      " - 0s - loss: 245.0449\n",
      "Epoch 18/50\n",
      " - 0s - loss: 232.8009\n",
      "Epoch 19/50\n",
      " - 0s - loss: 225.4629\n",
      "Epoch 20/50\n",
      " - 0s - loss: 217.0179\n",
      "Epoch 21/50\n",
      " - 0s - loss: 209.0574\n",
      "Epoch 22/50\n",
      " - 0s - loss: 202.6743\n",
      "Epoch 23/50\n",
      " - 0s - loss: 197.1351\n",
      "Epoch 24/50\n",
      " - 0s - loss: 190.2762\n",
      "Epoch 25/50\n",
      " - 0s - loss: 185.0915\n",
      "Epoch 26/50\n",
      " - 0s - loss: 181.3109\n",
      "Epoch 27/50\n",
      " - 0s - loss: 175.8032\n",
      "Epoch 28/50\n",
      " - 0s - loss: 171.2757\n",
      "Epoch 29/50\n",
      " - 0s - loss: 166.6206\n",
      "Epoch 30/50\n",
      " - 0s - loss: 163.8530\n",
      "Epoch 31/50\n",
      " - 0s - loss: 161.1602\n",
      "Epoch 32/50\n",
      " - 0s - loss: 155.6712\n",
      "Epoch 33/50\n",
      " - 0s - loss: 152.3265\n",
      "Epoch 34/50\n",
      " - 0s - loss: 149.0226\n",
      "Epoch 35/50\n",
      " - 0s - loss: 145.7832\n",
      "Epoch 36/50\n",
      " - 0s - loss: 144.3988\n",
      "Epoch 37/50\n",
      " - 0s - loss: 140.5740\n",
      "Epoch 38/50\n",
      " - 0s - loss: 138.9323\n",
      "Epoch 39/50\n",
      " - 0s - loss: 136.7482\n",
      "Epoch 40/50\n",
      " - 0s - loss: 134.5434\n",
      "Epoch 41/50\n",
      " - 0s - loss: 133.0008\n",
      "Epoch 42/50\n",
      " - 0s - loss: 129.7590\n",
      "Epoch 43/50\n",
      " - 0s - loss: 128.5845\n",
      "Epoch 44/50\n",
      " - 0s - loss: 126.6830\n",
      "Epoch 45/50\n",
      " - 0s - loss: 125.0870\n",
      "Epoch 46/50\n",
      " - 0s - loss: 127.6004\n",
      "Epoch 47/50\n",
      " - 0s - loss: 122.2951\n",
      "Epoch 48/50\n",
      " - 0s - loss: 120.4210\n",
      "Epoch 49/50\n",
      " - 0s - loss: 119.4249\n",
      "Epoch 50/50\n",
      " - 0s - loss: 116.9435\n"
     ]
    }
   ],
   "source": [
    "history = model.fit(X_train, y_train, epochs=50, verbose=2)"
   ]
  },
  {
   "cell_type": "markdown",
   "metadata": {},
   "source": [
    "### 3. Evaluate the model on the test data and compute the mean squared error between the predicted concrete strength and the actual concrete strength. You can use the mean_squared_error function from Scikit-learn."
   ]
  },
  {
   "cell_type": "code",
   "execution_count": 17,
   "metadata": {},
   "outputs": [],
   "source": [
    "# Predict for test set\n",
    "pred = model.predict(X_test)"
   ]
  },
  {
   "cell_type": "code",
   "execution_count": 18,
   "metadata": {},
   "outputs": [],
   "source": [
    "from sklearn.metrics import mean_squared_error"
   ]
  },
  {
   "cell_type": "code",
   "execution_count": 19,
   "metadata": {},
   "outputs": [
    {
     "name": "stdout",
     "output_type": "stream",
     "text": [
      "133.4453739648158\n"
     ]
    }
   ],
   "source": [
    "err = mean_squared_error(y_test, pred)\n",
    "print(err)"
   ]
  },
  {
   "cell_type": "markdown",
   "metadata": {},
   "source": [
    "Error value is very big for the given set-up"
   ]
  },
  {
   "cell_type": "markdown",
   "metadata": {},
   "source": [
    "### 4. Repeat steps 1 - 3, 50 times, i.e., create a list of 50 mean squared errors."
   ]
  },
  {
   "cell_type": "code",
   "execution_count": 20,
   "metadata": {},
   "outputs": [],
   "source": [
    "#Define model as model1 which we will use with 50 iterations\n",
    "model1 = Sequential()\n",
    "model1.add(Dense(10, activation='relu', input_shape=(n_cols,)))\n",
    "model1.add(Dense(1))\n",
    "# compile model\n",
    "model1.compile(optimizer='adam', loss='mean_squared_error')"
   ]
  },
  {
   "cell_type": "code",
   "execution_count": 21,
   "metadata": {},
   "outputs": [
    {
     "name": "stdout",
     "output_type": "stream",
     "text": [
      "Error from iteration 1, is 652.695859894607\n",
      "Error from iteration 2, is 151.742728260254\n",
      "Error from iteration 3, is 135.93225900382052\n",
      "Error from iteration 4, is 136.6491118965096\n",
      "Error from iteration 5, is 124.15768531325509\n",
      "Error from iteration 6, is 120.48022526021221\n",
      "Error from iteration 7, is 126.10351136643416\n",
      "Error from iteration 8, is 119.83382511059303\n",
      "Error from iteration 9, is 120.9537485504332\n",
      "Error from iteration 10, is 138.24797059435684\n",
      "Error from iteration 11, is 120.47921059560332\n",
      "Error from iteration 12, is 136.64590248616537\n",
      "Error from iteration 13, is 126.5150344971003\n",
      "Error from iteration 14, is 122.2782756398972\n",
      "Error from iteration 15, is 119.93440076945133\n",
      "Error from iteration 16, is 125.06570637865822\n",
      "Error from iteration 17, is 121.03785012513615\n",
      "Error from iteration 18, is 120.06733933347864\n",
      "Error from iteration 19, is 120.93859700362832\n",
      "Error from iteration 20, is 136.064147966521\n",
      "Error from iteration 21, is 121.48172928360661\n",
      "Error from iteration 22, is 119.58963158658761\n",
      "Error from iteration 23, is 119.90035922968367\n",
      "Error from iteration 24, is 124.11790480811555\n",
      "Error from iteration 25, is 123.24544325168556\n",
      "Error from iteration 26, is 109.89594337859181\n",
      "Error from iteration 27, is 73.7017923681554\n",
      "Error from iteration 28, is 68.04680988554396\n",
      "Error from iteration 29, is 63.42577007033639\n",
      "Error from iteration 30, is 61.17667375801862\n",
      "Error from iteration 31, is 59.22661977277944\n",
      "Error from iteration 32, is 58.24723023078959\n",
      "Error from iteration 33, is 58.90938066336604\n",
      "Error from iteration 34, is 56.946178483721766\n",
      "Error from iteration 35, is 57.33283974183376\n",
      "Error from iteration 36, is 57.5846987475175\n",
      "Error from iteration 37, is 57.33748495510408\n",
      "Error from iteration 38, is 56.84240112853022\n",
      "Error from iteration 39, is 59.018816894491486\n",
      "Error from iteration 40, is 56.963254177667515\n",
      "Error from iteration 41, is 58.072432628056234\n",
      "Error from iteration 42, is 57.98203932407449\n",
      "Error from iteration 43, is 61.99227884191691\n",
      "Error from iteration 44, is 58.06998896249269\n",
      "Error from iteration 45, is 56.98296588063147\n",
      "Error from iteration 46, is 60.44076976522966\n",
      "Error from iteration 47, is 61.666044171764824\n",
      "Error from iteration 48, is 58.37162838173257\n",
      "Error from iteration 49, is 60.77203240807204\n",
      "Error from iteration 50, is 56.948193243114254\n"
     ]
    }
   ],
   "source": [
    "#Error value holder\n",
    "error = np.zeros(50)\n",
    "\n",
    "# For loop for 50 iterations\n",
    "for i in range(50):\n",
    "    X_tr, X_tt, y_tr, y_tt = train_test_split(predictors, target, test_size=0.30, random_state=1, shuffle=True)\n",
    "    hist = model1.fit(X_tr, y_tr, epochs=50, verbose=0)\n",
    "    preds = model1.predict(X_tt)\n",
    "    err = mean_squared_error(y_tt, preds)\n",
    "    error[i] = err\n",
    "    print(\"Error from iteration {}, is {}\".format(i+1,err))"
   ]
  },
  {
   "cell_type": "markdown",
   "metadata": {},
   "source": [
    "### 5. Report the mean and the standard deviation of the mean squared errors."
   ]
  },
  {
   "cell_type": "code",
   "execution_count": 23,
   "metadata": {},
   "outputs": [
    {
     "name": "stdout",
     "output_type": "stream",
     "text": [
      "Mean is 104.60225452138653, and std. deviation is 85.06625348490947\n"
     ]
    }
   ],
   "source": [
    "dev = np.std(error)\n",
    "Mn = np.mean(error)\n",
    "print(\"Mean is {}, and std. deviation is {}\".format(Mn,dev))"
   ]
  }
 ],
 "metadata": {
  "kernelspec": {
   "display_name": "Python",
   "language": "python",
   "name": "conda-env-python-py"
  },
  "language_info": {
   "codemirror_mode": {
    "name": "ipython",
    "version": 3
   },
   "file_extension": ".py",
   "mimetype": "text/x-python",
   "name": "python",
   "nbconvert_exporter": "python",
   "pygments_lexer": "ipython3",
   "version": "3.6.7"
  }
 },
 "nbformat": 4,
 "nbformat_minor": 4
}
